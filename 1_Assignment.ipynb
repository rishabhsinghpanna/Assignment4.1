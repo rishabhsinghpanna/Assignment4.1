{
 "cells": [
  {
   "cell_type": "markdown",
   "id": "8e3263e2-a4e2-4fe7-a53b-252f6da2430f",
   "metadata": {},
   "source": [
    "Q1. Create a vehicle class with an init method having instance variables as name_of_vehicle, max_speed\n",
    "and average_of_vehicle."
   ]
  },
  {
   "cell_type": "code",
   "execution_count": 1,
   "id": "d948af9a-a7e7-439f-8bd8-9176431a5d73",
   "metadata": {},
   "outputs": [],
   "source": [
    "class vehicle:\n",
    "    \n",
    "    def __init__(self , name_of_vehicle , max_speed , average_of_vehicle):\n",
    "        self.name_of_vehicle = name_of_vehicle \n",
    "        self.max_speed = max_speed\n",
    "        self.average_of_vehicle = average_of_vehicle\n",
    "    "
   ]
  },
  {
   "cell_type": "markdown",
   "id": "0cc8bcec-5a0c-4340-ac86-c32022de2ecf",
   "metadata": {},
   "source": [
    "Q2. Create a child class car from the vehicle class created in Que 1, which will inherit the vehicle class.\n",
    "Create a method named seating_capacity which takes capacity as an argument and returns the name of\n",
    "the vehicle and its seating capacity."
   ]
  },
  {
   "cell_type": "code",
   "execution_count": 2,
   "id": "e88762fa-0308-476b-8572-77213ec54b85",
   "metadata": {},
   "outputs": [],
   "source": [
    "class car(vehicle):\n",
    "    \n",
    "        \n",
    "    def capacity(self , seating_capacity):\n",
    "        return self.name_of_vehicle  , seating_capacity "
   ]
  },
  {
   "cell_type": "code",
   "execution_count": 3,
   "id": "4399cd8d-55d2-47da-bcbb-9001ddaf86a3",
   "metadata": {},
   "outputs": [],
   "source": [
    "c=car(\"Toyota\" , 456 , 4)"
   ]
  },
  {
   "cell_type": "code",
   "execution_count": 4,
   "id": "09568895-18db-4ab0-8880-906a8e073a3e",
   "metadata": {},
   "outputs": [
    {
     "data": {
      "text/plain": [
       "('Toyota', 8)"
      ]
     },
     "execution_count": 4,
     "metadata": {},
     "output_type": "execute_result"
    }
   ],
   "source": [
    "c.capacity(8)"
   ]
  },
  {
   "cell_type": "markdown",
   "id": "710b29e5-4825-4177-8e53-a5c59b20ca05",
   "metadata": {},
   "source": [
    "Q3. What is multiple inheritance? Write a python code to demonstrate multiple inheritance."
   ]
  },
  {
   "cell_type": "markdown",
   "id": "3978d519-a722-41c6-8cdc-5b23d3662eaf",
   "metadata": {},
   "source": [
    "Multiple inheritance is a feature in object-oriented programming languages where a class can inherit attributes and methods from multiple parent classes. This means that a class can derive properties from more than one base class, resulting in a combination of features from different parent classes."
   ]
  },
  {
   "cell_type": "code",
   "execution_count": 7,
   "id": "43ede514-ab08-41a2-81e7-218b02860b18",
   "metadata": {},
   "outputs": [],
   "source": [
    "class human:\n",
    "    def __init__(self , name):\n",
    "        self.name = name\n",
    "        \n",
    "    def return_name(self):\n",
    "        return (f\" I am {self.name} .\")\n",
    "        \n",
    "        \n",
    "        \n",
    "   "
   ]
  },
  {
   "cell_type": "code",
   "execution_count": 8,
   "id": "20da37a3-68db-4577-a6f5-91bb12b48d23",
   "metadata": {},
   "outputs": [],
   "source": [
    "class bird :\n",
    "    def return_fly(self):\n",
    "        return \" I can fly .\"\n",
    "    "
   ]
  },
  {
   "cell_type": "code",
   "execution_count": 9,
   "id": "c1718439-f031-4fe7-b8cd-ea77622ce14c",
   "metadata": {},
   "outputs": [],
   "source": [
    "class child(human , bird) :\n",
    "    pass"
   ]
  },
  {
   "cell_type": "code",
   "execution_count": 10,
   "id": "0d77299b-4738-4cdd-a578-63b0519200c7",
   "metadata": {},
   "outputs": [],
   "source": [
    "a = child(\"Rishbh\")"
   ]
  },
  {
   "cell_type": "code",
   "execution_count": 11,
   "id": "a455aaab-151d-499b-b7e9-a25c2bffbd98",
   "metadata": {},
   "outputs": [
    {
     "data": {
      "text/plain": [
       "'Rishbh'"
      ]
     },
     "execution_count": 11,
     "metadata": {},
     "output_type": "execute_result"
    }
   ],
   "source": [
    "a.name "
   ]
  },
  {
   "cell_type": "code",
   "execution_count": 13,
   "id": "d02eee57-619e-4eaf-9b68-fc13ce9bf398",
   "metadata": {},
   "outputs": [
    {
     "data": {
      "text/plain": [
       "' I am Rishbh .'"
      ]
     },
     "execution_count": 13,
     "metadata": {},
     "output_type": "execute_result"
    }
   ],
   "source": [
    "a.return_name()"
   ]
  },
  {
   "cell_type": "code",
   "execution_count": 14,
   "id": "1c71022b-2911-439a-aae0-fafa0cada149",
   "metadata": {},
   "outputs": [
    {
     "data": {
      "text/plain": [
       "' I can fly .'"
      ]
     },
     "execution_count": 14,
     "metadata": {},
     "output_type": "execute_result"
    }
   ],
   "source": [
    "a.return_fly()"
   ]
  },
  {
   "cell_type": "markdown",
   "id": "6f91c74c-a061-416a-9b45-5b6fa3676b17",
   "metadata": {},
   "source": [
    "Q4. What are getter and setter in python? Create a class and create a getter and a setter method in this\n",
    "class."
   ]
  },
  {
   "cell_type": "markdown",
   "id": "1e0f19aa-2127-4528-a807-252f002e726c",
   "metadata": {},
   "source": [
    "When ever there is a private function  in a class, to access the variable outside class which is present in private function we use getters and setters. "
   ]
  },
  {
   "cell_type": "markdown",
   "id": "250e2b99-3271-4ef0-8f2f-bd785be21d42",
   "metadata": {},
   "source": [
    "By using getter we can get the value of that private variable and by using setter we can set the value of variable of that class"
   ]
  },
  {
   "cell_type": "code",
   "execution_count": 7,
   "id": "9d439adb-c0df-412f-b36a-98f7cfd50a2a",
   "metadata": {},
   "outputs": [],
   "source": [
    "class Student :\n",
    "   \n",
    "        \n",
    "        \n",
    "        def set_name(self, name):\n",
    "            self.__name = name\n",
    "            \n",
    "        def set_reg_no(self, reg_no):\n",
    "            self.__reg_no = 0 if reg_no < 0 else reg_no\n",
    "            \n",
    "        def set_course(self , course):\n",
    "            self.__course = course\n",
    "            \n",
    "            \n",
    "        def get_name(self):\n",
    "            return self.__name\n",
    "        \n",
    "        def get_reg_no(self ):\n",
    "            return self.__reg_no\n",
    "        \n",
    "        def get_course(self):\n",
    "            return self.__course\n",
    "        \n",
    "        def getall(self):\n",
    "            return self.__name , self.__reg_no , self.__course"
   ]
  },
  {
   "cell_type": "code",
   "execution_count": 8,
   "id": "a2b100bc-a3c0-4728-ab9e-7c72626a6d4e",
   "metadata": {},
   "outputs": [],
   "source": [
    "a = Student()"
   ]
  },
  {
   "cell_type": "code",
   "execution_count": 9,
   "id": "7b6e3cd2-d86f-4c2a-a192-9b822b63590d",
   "metadata": {},
   "outputs": [],
   "source": [
    "a.set_name(\"Rishabh\")"
   ]
  },
  {
   "cell_type": "code",
   "execution_count": 17,
   "id": "a43930ff-3ccf-40c6-b7ab-3251c3d5d62f",
   "metadata": {},
   "outputs": [],
   "source": [
    "a.set_reg_no(10)"
   ]
  },
  {
   "cell_type": "code",
   "execution_count": 11,
   "id": "54b18290-6ce2-4ddf-9c9f-1bc1306aec25",
   "metadata": {},
   "outputs": [],
   "source": [
    "a.set_course(\"Data Science Masters\")"
   ]
  },
  {
   "cell_type": "code",
   "execution_count": 12,
   "id": "05a770ac-9e27-4fd1-bf2a-5cdee4affa5a",
   "metadata": {},
   "outputs": [
    {
     "data": {
      "text/plain": [
       "'Rishabh'"
      ]
     },
     "execution_count": 12,
     "metadata": {},
     "output_type": "execute_result"
    }
   ],
   "source": [
    "a.get_name()"
   ]
  },
  {
   "cell_type": "code",
   "execution_count": 18,
   "id": "b1193df9-eb88-4757-9e98-ae2558a8f233",
   "metadata": {},
   "outputs": [
    {
     "data": {
      "text/plain": [
       "10"
      ]
     },
     "execution_count": 18,
     "metadata": {},
     "output_type": "execute_result"
    }
   ],
   "source": [
    "a.get_reg_no()"
   ]
  },
  {
   "cell_type": "code",
   "execution_count": 19,
   "id": "ec404524-fe4c-48ad-9e54-6665106514c3",
   "metadata": {},
   "outputs": [
    {
     "data": {
      "text/plain": [
       "'Data Science Masters'"
      ]
     },
     "execution_count": 19,
     "metadata": {},
     "output_type": "execute_result"
    }
   ],
   "source": [
    "a.get_course()"
   ]
  },
  {
   "cell_type": "code",
   "execution_count": 20,
   "id": "53d9d465-da4b-4e1c-a408-bd45b0fa3ff4",
   "metadata": {},
   "outputs": [
    {
     "data": {
      "text/plain": [
       "('Rishabh', 10, 'Data Science Masters')"
      ]
     },
     "execution_count": 20,
     "metadata": {},
     "output_type": "execute_result"
    }
   ],
   "source": [
    "a.getall()"
   ]
  },
  {
   "cell_type": "code",
   "execution_count": null,
   "id": "32243505-c8ac-4c2f-a3f0-43591df6347c",
   "metadata": {},
   "outputs": [],
   "source": []
  },
  {
   "cell_type": "code",
   "execution_count": null,
   "id": "2be20407-f558-4c9d-8688-aaa82d87ff79",
   "metadata": {},
   "outputs": [],
   "source": []
  },
  {
   "cell_type": "markdown",
   "id": "e170b5cd-1f70-4d54-90b4-aa6c7b6fc8dd",
   "metadata": {},
   "source": [
    "Q5.What is method overriding in python? Write a python code to demonstrate method overriding."
   ]
  },
  {
   "cell_type": "markdown",
   "id": "9e4ecba4-ebac-4d35-9002-dcc860fb8485",
   "metadata": {},
   "source": [
    "Method overriding in python is if same function is present in both parent class and child class . Then child class function will have priority , if we make object using child class and if we call the function child class function will execute ."
   ]
  },
  {
   "cell_type": "markdown",
   "id": "6faa7f73-c8e8-49ba-9f38-b87adfc584ee",
   "metadata": {},
   "source": [
    "Method overriding is a feature in object-oriented programming where a subclass provides its own implementation of a method that is already defined in its superclass. The overridden method in the subclass has the same name, return type, and parameters as the method in the superclass, but it provides a different implementation."
   ]
  },
  {
   "cell_type": "code",
   "execution_count": 22,
   "id": "64657fb3-3989-4241-a6c7-6a2676491548",
   "metadata": {},
   "outputs": [],
   "source": [
    "# Python Code :\n",
    "\n",
    "class Omnivores :\n",
    "    def eat(self):\n",
    "        return \"Both plants and Animals\""
   ]
  },
  {
   "cell_type": "code",
   "execution_count": 28,
   "id": "6eafc197-6f94-4e12-a802-fba83489be03",
   "metadata": {},
   "outputs": [],
   "source": [
    "class carnivores(Omnivores):\n",
    "    def eat(self):\n",
    "        return \"Only Animals\""
   ]
  },
  {
   "cell_type": "code",
   "execution_count": 35,
   "id": "284e8d23-da95-45ba-8ab4-57ab334139b3",
   "metadata": {},
   "outputs": [],
   "source": [
    "class herbivores(Omnivores):\n",
    "    def eat(self):\n",
    "        return \"Only Plants\""
   ]
  },
  {
   "cell_type": "code",
   "execution_count": 31,
   "id": "a3c10c49-ba73-45ed-848f-cba0dfbd46ff",
   "metadata": {},
   "outputs": [],
   "source": [
    "a = carnivores()"
   ]
  },
  {
   "cell_type": "code",
   "execution_count": 32,
   "id": "b53c2499-ca44-42de-bb2b-39eed12b2a4f",
   "metadata": {},
   "outputs": [
    {
     "data": {
      "text/plain": [
       "'Only Animals'"
      ]
     },
     "execution_count": 32,
     "metadata": {},
     "output_type": "execute_result"
    }
   ],
   "source": [
    "a.eat()"
   ]
  },
  {
   "cell_type": "code",
   "execution_count": 33,
   "id": "d16ac956-b401-4096-a3ca-b32e64e0fc58",
   "metadata": {},
   "outputs": [],
   "source": [
    "b = herbivores()"
   ]
  },
  {
   "cell_type": "code",
   "execution_count": 37,
   "id": "4357cde5-44d9-44a5-b5b7-be6c85162919",
   "metadata": {},
   "outputs": [
    {
     "data": {
      "text/plain": [
       "'Only Plants'"
      ]
     },
     "execution_count": 37,
     "metadata": {},
     "output_type": "execute_result"
    }
   ],
   "source": [
    "b.eat()"
   ]
  },
  {
   "cell_type": "code",
   "execution_count": null,
   "id": "21a8650c-1a30-47cb-bf43-7a804843c2d1",
   "metadata": {},
   "outputs": [],
   "source": []
  }
 ],
 "metadata": {
  "kernelspec": {
   "display_name": "Python 3 (ipykernel)",
   "language": "python",
   "name": "python3"
  },
  "language_info": {
   "codemirror_mode": {
    "name": "ipython",
    "version": 3
   },
   "file_extension": ".py",
   "mimetype": "text/x-python",
   "name": "python",
   "nbconvert_exporter": "python",
   "pygments_lexer": "ipython3",
   "version": "3.10.8"
  }
 },
 "nbformat": 4,
 "nbformat_minor": 5
}
